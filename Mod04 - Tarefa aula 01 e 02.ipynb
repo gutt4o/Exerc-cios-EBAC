{
 "cells": [
  {
   "cell_type": "markdown",
   "metadata": {},
   "source": [
    "# Tarefa 01\n",
    "\n",
    "- Leia os enunciados com atenção\n",
    "- Saiba que pode haver mais de uma resposta correta\n",
    "- Insira novas células de código sempre que achar necessário\n",
    "- Em caso de dúvidas, procure os tutores\n",
    "- Divirta-se :)\n",
    "\n",
    "#### 1)  crie uma série do pandas a partir de uma lista com os dados abaixo:\n",
    "\n",
    "Em um estudo sobre alteração na tempreatura global, A NASA disponibiliza dados de diferenças de de temperatura média da superfície terrestre relativos às médias de temperatura entre 1951 e 1980. Os dados originais podem ser vistos no site da NASA/GISS, e estão dispostos a cada década na tabela abaixo.\n",
    "\n",
    "|ano|anomalia termica|\n",
    "|:-:|:----:|\n",
    "| 1900 | -0.08 |\n",
    "| 1920 | -0.27 |\n",
    "| 1940 | 0.12 |\n",
    "| 1960 | -0.03 |\n",
    "| 1980 | 0.26 |\n",
    "| 2000 | 0.40 |\n",
    "| 2020 | 1.02 |\n",
    "\n",
    "Crie uma séries do Pandas a partir de uma lista com esses dados."
   ]
  },
  {
   "cell_type": "code",
   "execution_count": 3,
   "metadata": {},
   "outputs": [
    {
     "name": "stdout",
     "output_type": "stream",
     "text": [
      "0    (1900, -0.08)\n",
      "1    (1920, -0.27)\n",
      "2     (1940, 0.12)\n",
      "3    (1960, -0.03)\n",
      "4     (1980, 0.26)\n",
      "5      (2000, 0.4)\n",
      "6     (2020, 1.02)\n",
      "dtype: object\n"
     ]
    }
   ],
   "source": [
    "import pandas as pd\n",
    "import numpy as np\n",
    "\n",
    "# Seu código aqui\n",
    "\n",
    "dados = [\n",
    "    (1900, -0.08),\n",
    "    (1920, -0.27),\n",
    "    (1940, 0.12),\n",
    "    (1960, -0.03),\n",
    "    (1980, 0.26),\n",
    "    (2000, 0.40),\n",
    "    (2020, 1.02)\n",
    "]\n",
    "\n",
    "temperatura_global = pd.Series(dados)\n",
    "\n",
    "print(temperatura_global)"
   ]
  },
  {
   "cell_type": "markdown",
   "metadata": {},
   "source": [
    "#### 2) Coloque os anos nos índices conforme a tabela."
   ]
  },
  {
   "cell_type": "code",
   "execution_count": 10,
   "metadata": {},
   "outputs": [
    {
     "name": "stdout",
     "output_type": "stream",
     "text": [
      "1900   -0.08\n",
      "1920   -0.27\n",
      "1940    0.12\n",
      "1960   -0.03\n",
      "1980    0.26\n",
      "2000    0.40\n",
      "2020    1.02\n",
      "dtype: float64\n"
     ]
    }
   ],
   "source": [
    "\n",
    "# seu código aqui\n",
    "dados_2 = [-0.08, -0.27, 0.12, -0.03, 0.26, 0.40, 1.02]\n",
    "anos = pd.Series(dados_2, index=['1900', '1920', '1940', '1960', '1980', '2000', '2020'])\n",
    "    \n",
    "print(anos)"
   ]
  },
  {
   "cell_type": "markdown",
   "metadata": {},
   "source": [
    "#### 3) A partir do dicionário abaixo, crie uma séries do Pandas:"
   ]
  },
  {
   "cell_type": "code",
   "execution_count": 11,
   "metadata": {},
   "outputs": [
    {
     "data": {
      "text/plain": [
       "1900   -0.08\n",
       "1920   -0.27\n",
       "1940    0.12\n",
       "1960   -0.03\n",
       "1980    0.26\n",
       "2000    0.40\n",
       "2020    1.02\n",
       "dtype: float64"
      ]
     },
     "execution_count": 11,
     "metadata": {},
     "output_type": "execute_result"
    }
   ],
   "source": [
    "dic_temperaturas = {1900: -.08, 1920: -.27, 1940: .12, 1960: -.03, 1980: .26, 2000: .40, 2020: 1.02}\n",
    "\n",
    "# seu código aqui\n",
    "\n",
    "temp_global = pd.Series(dic_temperaturas)\n",
    "temp_global"
   ]
  },
  {
   "cell_type": "markdown",
   "metadata": {},
   "source": [
    "#### 4) Transforme o ndarray abaixo em um dataframe. \n",
    "O numpy é capaz de gerar arrays n-dimensionais com números pseudo-aleatórios de acordo com uma variedade de distribuições, como no exemplo abaixo. Transforme esse nd-array em um DataFrame."
   ]
  },
  {
   "cell_type": "code",
   "execution_count": 17,
   "metadata": {},
   "outputs": [
    {
     "name": "stdout",
     "output_type": "stream",
     "text": [
      "      Coluna 1    Coluna 2    Coluna 3\n",
      "0   108.664741  102.352208   82.355228\n",
      "1    95.106476  103.610990   91.468776\n",
      "2    79.355299   73.174305   94.247006\n",
      "3    93.074673  112.432253   80.994384\n",
      "4   108.259967  109.805239  102.879306\n",
      "5   103.516316  110.311437   94.814263\n",
      "6    93.176198  109.173472  110.606379\n",
      "7    97.043733  109.355459   95.297027\n",
      "8   112.011702  107.554664  105.914911\n",
      "9   102.206458  104.222055   87.046132\n",
      "10   91.350698   99.074966  117.009934\n",
      "11  113.485416   98.351842   96.296779\n",
      "12  103.963173  113.517223  102.417251\n",
      "13   90.934770  107.758533  105.091415\n",
      "14  111.586349   97.834034  109.218690\n",
      "15  101.218190   97.242949   81.253469\n",
      "16   98.190701  109.134065  115.095207\n",
      "17   96.657587   97.552314   90.498642\n",
      "18  116.156567  116.951507  107.798050\n",
      "19  104.648810  112.325859   85.694183\n"
     ]
    }
   ],
   "source": [
    "arr = np.random.normal(100, 10, (20,3))\n",
    "\n",
    "# seu código aqui\n",
    "\n",
    "df = pd.DataFrame(arr, columns =['Coluna 1', 'Coluna 2', 'Coluna 3'])\n",
    "print(df)"
   ]
  },
  {
   "cell_type": "markdown",
   "metadata": {},
   "source": [
    "#### 5) Nomeie os índices das linhas com inteiros de 1 a 20, e as colunas com os nomes \"x1\", \"x2\", e \"x3\" respectivamente."
   ]
  },
  {
   "cell_type": "code",
   "execution_count": 19,
   "metadata": {},
   "outputs": [
    {
     "name": "stdout",
     "output_type": "stream",
     "text": [
      "            x1          x2          x3\n",
      "1   108.664741  102.352208   82.355228\n",
      "2    95.106476  103.610990   91.468776\n",
      "3    79.355299   73.174305   94.247006\n",
      "4    93.074673  112.432253   80.994384\n",
      "5   108.259967  109.805239  102.879306\n",
      "6   103.516316  110.311437   94.814263\n",
      "7    93.176198  109.173472  110.606379\n",
      "8    97.043733  109.355459   95.297027\n",
      "9   112.011702  107.554664  105.914911\n",
      "10  102.206458  104.222055   87.046132\n",
      "11   91.350698   99.074966  117.009934\n",
      "12  113.485416   98.351842   96.296779\n",
      "13  103.963173  113.517223  102.417251\n",
      "14   90.934770  107.758533  105.091415\n",
      "15  111.586349   97.834034  109.218690\n",
      "16  101.218190   97.242949   81.253469\n",
      "17   98.190701  109.134065  115.095207\n",
      "18   96.657587   97.552314   90.498642\n",
      "19  116.156567  116.951507  107.798050\n",
      "20  104.648810  112.325859   85.694183\n"
     ]
    }
   ],
   "source": [
    "#seu código aqui\n",
    "df = pd.DataFrame(arr, index=range(1,21), columns =['x1', 'x2', 'x3'])\n",
    "print(df)"
   ]
  },
  {
   "cell_type": "markdown",
   "metadata": {},
   "source": [
    "#### 6) No DataFrame do exercício 5, crie uma nova coluna como sendo a média das três colunas, e dê a ela o nome de \"media\" (não recomendo colocar acentos em nomes de variáveis)."
   ]
  },
  {
   "cell_type": "code",
   "execution_count": 20,
   "metadata": {},
   "outputs": [
    {
     "name": "stdout",
     "output_type": "stream",
     "text": [
      "            x1          x2          x3       media\n",
      "1   108.664741  102.352208   82.355228   97.790726\n",
      "2    95.106476  103.610990   91.468776   96.728747\n",
      "3    79.355299   73.174305   94.247006   82.258870\n",
      "4    93.074673  112.432253   80.994384   95.500437\n",
      "5   108.259967  109.805239  102.879306  106.981504\n",
      "6   103.516316  110.311437   94.814263  102.880672\n",
      "7    93.176198  109.173472  110.606379  104.318683\n",
      "8    97.043733  109.355459   95.297027  100.565406\n",
      "9   112.011702  107.554664  105.914911  108.493759\n",
      "10  102.206458  104.222055   87.046132   97.824882\n",
      "11   91.350698   99.074966  117.009934  102.478533\n",
      "12  113.485416   98.351842   96.296779  102.711346\n",
      "13  103.963173  113.517223  102.417251  106.632549\n",
      "14   90.934770  107.758533  105.091415  101.261573\n",
      "15  111.586349   97.834034  109.218690  106.213024\n",
      "16  101.218190   97.242949   81.253469   93.238203\n",
      "17   98.190701  109.134065  115.095207  107.473324\n",
      "18   96.657587   97.552314   90.498642   94.902848\n",
      "19  116.156567  116.951507  107.798050  113.635374\n",
      "20  104.648810  112.325859   85.694183  100.889617\n"
     ]
    }
   ],
   "source": [
    "# seu código aqui\n",
    "df['media'] = df.mean(axis=1)\n",
    "print(df)"
   ]
  },
  {
   "cell_type": "markdown",
   "metadata": {},
   "source": [
    "#### 7) No DataFrame do exercício 6, crie uma nova coluna chamada \"log_med\", contendo o logaritmo natural da média calculada no exercício 6 <br>"
   ]
  },
  {
   "cell_type": "code",
   "execution_count": 21,
   "metadata": {},
   "outputs": [
    {
     "name": "stdout",
     "output_type": "stream",
     "text": [
      "            x1          x2          x3       media   log_med\n",
      "1   108.664741  102.352208   82.355228   97.790726  4.582830\n",
      "2    95.106476  103.610990   91.468776   96.728747  4.571911\n",
      "3    79.355299   73.174305   94.247006   82.258870  4.409871\n",
      "4    93.074673  112.432253   80.994384   95.500437  4.559131\n",
      "5   108.259967  109.805239  102.879306  106.981504  4.672656\n",
      "6   103.516316  110.311437   94.814263  102.880672  4.633570\n",
      "7    93.176198  109.173472  110.606379  104.318683  4.647450\n",
      "8    97.043733  109.355459   95.297027  100.565406  4.610808\n",
      "9   112.011702  107.554664  105.914911  108.493759  4.686693\n",
      "10  102.206458  104.222055   87.046132   97.824882  4.583179\n",
      "11   91.350698   99.074966  117.009934  102.478533  4.629653\n",
      "12  113.485416   98.351842   96.296779  102.711346  4.631923\n",
      "13  103.963173  113.517223  102.417251  106.632549  4.669389\n",
      "14   90.934770  107.758533  105.091415  101.261573  4.617707\n",
      "15  111.586349   97.834034  109.218690  106.213024  4.665447\n",
      "16  101.218190   97.242949   81.253469   93.238203  4.535158\n",
      "17   98.190701  109.134065  115.095207  107.473324  4.677243\n",
      "18   96.657587   97.552314   90.498642   94.902848  4.552854\n",
      "19  116.156567  116.951507  107.798050  113.635374  4.732995\n",
      "20  104.648810  112.325859   85.694183  100.889617  4.614027\n"
     ]
    }
   ],
   "source": [
    "# seu código aqui\n",
    "df['log_med'] = np.log(df.mean(axis=1))\n",
    "print(df)"
   ]
  },
  {
   "cell_type": "code",
   "execution_count": null,
   "metadata": {},
   "outputs": [],
   "source": []
  }
 ],
 "metadata": {
  "kernelspec": {
   "display_name": "Python 3 (ipykernel)",
   "language": "python",
   "name": "python3"
  },
  "language_info": {
   "codemirror_mode": {
    "name": "ipython",
    "version": 3
   },
   "file_extension": ".py",
   "mimetype": "text/x-python",
   "name": "python",
   "nbconvert_exporter": "python",
   "pygments_lexer": "ipython3",
   "version": "3.11.5"
  }
 },
 "nbformat": 4,
 "nbformat_minor": 4
}
